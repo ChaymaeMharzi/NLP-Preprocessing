{
  "nbformat": 4,
  "nbformat_minor": 0,
  "metadata": {
    "colab": {
      "provenance": [],
      "authorship_tag": "ABX9TyOI0O/YNTwY0y/qXU+3FLlG",
      "include_colab_link": true
    },
    "kernelspec": {
      "name": "python3",
      "display_name": "Python 3"
    },
    "language_info": {
      "name": "python"
    }
  },
  "cells": [
    {
      "cell_type": "markdown",
      "metadata": {
        "id": "view-in-github",
        "colab_type": "text"
      },
      "source": [
        "<a href=\"https://colab.research.google.com/github/ChaymaeMharzi/NLP-Preprocessing/blob/main/TP2_word2vec.ipynb\" target=\"_parent\"><img src=\"https://colab.research.google.com/assets/colab-badge.svg\" alt=\"Open In Colab\"/></a>"
      ]
    },
    {
      "cell_type": "code",
      "execution_count": 1,
      "metadata": {
        "colab": {
          "base_uri": "https://localhost:8080/"
        },
        "id": "jouD5UNKcyWi",
        "outputId": "901771e2-a6ae-4f63-e083-c769286b8196"
      },
      "outputs": [
        {
          "output_type": "stream",
          "name": "stdout",
          "text": [
            "Requirement already satisfied: gensim in /usr/local/lib/python3.10/dist-packages (4.3.2)\n",
            "Requirement already satisfied: numpy>=1.18.5 in /usr/local/lib/python3.10/dist-packages (from gensim) (1.23.5)\n",
            "Requirement already satisfied: scipy>=1.7.0 in /usr/local/lib/python3.10/dist-packages (from gensim) (1.11.3)\n",
            "Requirement already satisfied: smart-open>=1.8.1 in /usr/local/lib/python3.10/dist-packages (from gensim) (6.4.0)\n"
          ]
        }
      ],
      "source": [
        "!pip install gensim"
      ]
    },
    {
      "cell_type": "markdown",
      "source": [],
      "metadata": {
        "id": "0YKEC_-KhcPN"
      }
    },
    {
      "cell_type": "code",
      "source": [
        "from gensim.models import Word2Vec\n",
        "from gensim.models import Phrases\n",
        "from gensim.models.phrases import Phraser\n"
      ],
      "metadata": {
        "id": "PoFpuSR9hYvV"
      },
      "execution_count": 2,
      "outputs": []
    },
    {
      "cell_type": "code",
      "source": [
        "# Spécifiez le chemin complet du fichier\n",
        "file_path = '/content/text'\n",
        "\n",
        "# Ouvrez le fichier\n",
        "with open(file_path, 'r', encoding='utf-8') as file:\n",
        "    text = file.read()\n"
      ],
      "metadata": {
        "id": "s4OSbyzTD74Y"
      },
      "execution_count": 3,
      "outputs": []
    },
    {
      "cell_type": "code",
      "source": [
        "# Prétraitez le texte (par exemple, en divisant en phrases et en minuscules)\n",
        "preprocessed_text = [sentence.lower().split() for sentence in text.split('.')]\n",
        "\n",
        "# Entraînez le modèle Word2Vec\n",
        "model = Word2Vec(sentences=preprocessed_text, vector_size=100, window=5, min_count=1, sg=0)\n"
      ],
      "metadata": {
        "id": "FZ5TNKd_FV9Z"
      },
      "execution_count": 4,
      "outputs": []
    },
    {
      "cell_type": "code",
      "source": [
        "# Convertir le texte en minuscules\n",
        "text = text.lower()\n"
      ],
      "metadata": {
        "id": "C7Zb_SW3FWEE"
      },
      "execution_count": 5,
      "outputs": []
    },
    {
      "cell_type": "code",
      "source": [
        "# Accéder au vocabulaire du modèle\n",
        "vocab = model.wv.key_to_index\n"
      ],
      "metadata": {
        "id": "hEV5YsSAFWYf"
      },
      "execution_count": 14,
      "outputs": []
    },
    {
      "cell_type": "code",
      "source": [
        "# Ouvrir un fichier de sortie en écriture\n",
        "\n",
        "with open('/content/word_vectors.txt', 'w', encoding='utf-8') as output_file:\n",
        "    # Accéder au vocabulaire du modèle\n",
        "    vocab = model.wv.key_to_index\n",
        "\n",
        "    # Écrire chaque mot avec son vecteur sémantique dans le fichier\n",
        "    for word in vocab:\n",
        "        vector = model.wv[word]\n",
        "        output_file.write(f\"Mot : {word}, Vecteur sémantique : {vector}\\n\")\n"
      ],
      "metadata": {
        "id": "FMzqDb3OKweS"
      },
      "execution_count": 15,
      "outputs": []
    },
    {
      "cell_type": "code",
      "source": [
        "# Ouvrir le fichier contenant les vecteurs sémantiques\n",
        "with open('/content/word_vectors.txt', 'r', encoding='utf-8') as input_file:\n",
        "    lines = input_file.readlines()\n",
        "\n",
        "# Créer un dictionnaire pour stocker les vecteurs sémantiques\n",
        "word_vectors = {}\n",
        "\n",
        "# Parcourir les lignes du fichier et extraire les mots et les vecteurs\n",
        "for line in lines:\n",
        "    parts = line.split(\": \")\n",
        "    if len(parts) == 2:\n",
        "        mot = parts[0].strip()\n",
        "        vecteur = [float(val) for val in parts[1].split()]\n",
        "        word_vectors[mot] = vecteur\n",
        "\n",
        "\n"
      ],
      "metadata": {
        "id": "i8OiIs9EQzB3"
      },
      "execution_count": 16,
      "outputs": []
    },
    {
      "cell_type": "code",
      "source": [
        "with open(\"word_vectors.txt\", \"r\", encoding=\"utf-8\") as file:\n",
        "    contenu = file.read()\n"
      ],
      "metadata": {
        "id": "Eu0HYEcmRZa4"
      },
      "execution_count": 17,
      "outputs": []
    },
    {
      "cell_type": "code",
      "source": [
        "mot_central = \"morocco\"\n",
        "\n",
        "# le mot est présent dans le modèle Word2Vec\n",
        "if mot_central in model.wv:\n",
        "    mots_contextuels = model.wv.most_similar(mot_central, topn=10)\n",
        "    print(f\"Mots contextuels pour '{mot_central}':\")\n",
        "    for mot, similarite in mots_contextuels:\n",
        "        print(f\"- Mot : {mot}, Similarité : {similarite}\")\n",
        "else:\n",
        "    print(\"Le mot central n'est pas dans le modèle Word2Vec.\")\n"
      ],
      "metadata": {
        "id": "RHwTUCx1R-85",
        "colab": {
          "base_uri": "https://localhost:8080/"
        },
        "outputId": "7a08b57f-9f50-4478-e658-7dd352ebdb22"
      },
      "execution_count": 18,
      "outputs": [
        {
          "output_type": "stream",
          "name": "stdout",
          "text": [
            "Mots contextuels pour 'morocco':\n",
            "- Mot : history,, Similarité : 0.3549368679523468\n",
            "- Mot : as, Similarité : 0.3038690984249115\n",
            "- Mot : seeking, Similarité : 0.2838968336582184\n",
            "- Mot : men,, Similarité : 0.2520120143890381\n",
            "- Mot : due, Similarité : 0.2513764798641205\n",
            "- Mot : **palaces, Similarité : 0.24914133548736572\n",
            "- Mot : marrakech's, Similarité : 0.22531214356422424\n",
            "- Mot : men, Similarité : 0.22279265522956848\n",
            "- Mot : laurent,, Similarité : 0.21125032007694244\n",
            "- Mot : showcasing, Similarité : 0.1919773370027542\n"
          ]
        }
      ]
    }
  ]
}